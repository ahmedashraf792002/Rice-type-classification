{
 "cells": [
  {
   "cell_type": "code",
   "execution_count": 1,
   "id": "47ab7b45",
   "metadata": {
    "_cell_guid": "b1076dfc-b9ad-4769-8c92-a6c4dae69d19",
    "_uuid": "8f2839f25d086af736a60e9eeb907d3b93b6e0e5",
    "execution": {
     "iopub.execute_input": "2022-11-27T14:38:47.514776Z",
     "iopub.status.busy": "2022-11-27T14:38:47.513154Z",
     "iopub.status.idle": "2022-11-27T14:38:47.532678Z",
     "shell.execute_reply": "2022-11-27T14:38:47.531327Z"
    },
    "papermill": {
     "duration": 0.037492,
     "end_time": "2022-11-27T14:38:47.535739",
     "exception": false,
     "start_time": "2022-11-27T14:38:47.498247",
     "status": "completed"
    },
    "tags": []
   },
   "outputs": [
    {
     "name": "stdout",
     "output_type": "stream",
     "text": [
      "/kaggle/input/rice-type-classification/riceClassification.csv\n"
     ]
    }
   ],
   "source": [
    "# This Python 3 environment comes with many helpful analytics libraries installed\n",
    "# It is defined by the kaggle/python Docker image: https://github.com/kaggle/docker-python\n",
    "# For example, here's several helpful packages to load\n",
    "\n",
    "import numpy as np # linear algebra\n",
    "import pandas as pd # data processing, CSV file I/O (e.g. pd.read_csv)\n",
    "\n",
    "# Input data files are available in the read-only \"../input/\" directory\n",
    "# For example, running this (by clicking run or pressing Shift+Enter) will list all files under the input directory\n",
    "\n",
    "import os\n",
    "for dirname, _, filenames in os.walk('/kaggle/input'):\n",
    "    for filename in filenames:\n",
    "        print(os.path.join(dirname, filename))\n",
    "\n",
    "# You can write up to 20GB to the current directory (/kaggle/working/) that gets preserved as output when you create a version using \"Save & Run All\" \n",
    "# You can also write temporary files to /kaggle/temp/, but they won't be saved outside of the current session"
   ]
  },
  {
   "cell_type": "markdown",
   "id": "1fb2f34e",
   "metadata": {
    "papermill": {
     "duration": 0.012955,
     "end_time": "2022-11-27T14:38:47.559705",
     "exception": false,
     "start_time": "2022-11-27T14:38:47.546750",
     "status": "completed"
    },
    "tags": []
   },
   "source": [
    "# Import Libraries"
   ]
  },
  {
   "cell_type": "code",
   "execution_count": 2,
   "id": "908a2e83",
   "metadata": {
    "execution": {
     "iopub.execute_input": "2022-11-27T14:38:47.585970Z",
     "iopub.status.busy": "2022-11-27T14:38:47.584591Z",
     "iopub.status.idle": "2022-11-27T14:38:49.210940Z",
     "shell.execute_reply": "2022-11-27T14:38:49.209104Z"
    },
    "papermill": {
     "duration": 1.642885,
     "end_time": "2022-11-27T14:38:49.213980",
     "exception": false,
     "start_time": "2022-11-27T14:38:47.571095",
     "status": "completed"
    },
    "tags": []
   },
   "outputs": [],
   "source": [
    "import pandas as pd\n",
    "import seaborn as sns\n",
    "from sklearn.preprocessing import MinMaxScaler\n",
    "from sklearn.model_selection import train_test_split\n",
    "from sklearn.linear_model import LogisticRegression\n",
    "from sklearn.metrics import confusion_matrix\n",
    "import matplotlib.pyplot as plt\n",
    "from sklearn.metrics import accuracy_score\n",
    "from sklearn.metrics import f1_score\n",
    "from sklearn.metrics import recall_score\n",
    "from sklearn.metrics import precision_score\n",
    "from sklearn.metrics import precision_recall_curve\n",
    "from sklearn.metrics import classification_report\n",
    "from sklearn.metrics import roc_auc_score"
   ]
  },
  {
   "cell_type": "markdown",
   "id": "eafcb899",
   "metadata": {
    "papermill": {
     "duration": 0.010657,
     "end_time": "2022-11-27T14:38:49.235539",
     "exception": false,
     "start_time": "2022-11-27T14:38:49.224882",
     "status": "completed"
    },
    "tags": []
   },
   "source": [
    "# Read Data"
   ]
  },
  {
   "cell_type": "code",
   "execution_count": 3,
   "id": "ff64c6cf",
   "metadata": {
    "execution": {
     "iopub.execute_input": "2022-11-27T14:38:49.260534Z",
     "iopub.status.busy": "2022-11-27T14:38:49.260087Z",
     "iopub.status.idle": "2022-11-27T14:38:49.347190Z",
     "shell.execute_reply": "2022-11-27T14:38:49.345836Z"
    },
    "papermill": {
     "duration": 0.103579,
     "end_time": "2022-11-27T14:38:49.350424",
     "exception": false,
     "start_time": "2022-11-27T14:38:49.246845",
     "status": "completed"
    },
    "tags": []
   },
   "outputs": [],
   "source": [
    "data=pd.read_csv('/kaggle/input/rice-type-classification/riceClassification.csv')"
   ]
  },
  {
   "cell_type": "markdown",
   "id": "1ab690d1",
   "metadata": {
    "papermill": {
     "duration": 0.010502,
     "end_time": "2022-11-27T14:38:49.372318",
     "exception": false,
     "start_time": "2022-11-27T14:38:49.361816",
     "status": "completed"
    },
    "tags": []
   },
   "source": [
    "# show 5 frist data"
   ]
  },
  {
   "cell_type": "code",
   "execution_count": 4,
   "id": "1e98694c",
   "metadata": {
    "execution": {
     "iopub.execute_input": "2022-11-27T14:38:49.396752Z",
     "iopub.status.busy": "2022-11-27T14:38:49.396301Z",
     "iopub.status.idle": "2022-11-27T14:38:49.422535Z",
     "shell.execute_reply": "2022-11-27T14:38:49.421143Z"
    },
    "papermill": {
     "duration": 0.04195,
     "end_time": "2022-11-27T14:38:49.425479",
     "exception": false,
     "start_time": "2022-11-27T14:38:49.383529",
     "status": "completed"
    },
    "tags": []
   },
   "outputs": [
    {
     "data": {
      "text/html": [
       "<div>\n",
       "<style scoped>\n",
       "    .dataframe tbody tr th:only-of-type {\n",
       "        vertical-align: middle;\n",
       "    }\n",
       "\n",
       "    .dataframe tbody tr th {\n",
       "        vertical-align: top;\n",
       "    }\n",
       "\n",
       "    .dataframe thead th {\n",
       "        text-align: right;\n",
       "    }\n",
       "</style>\n",
       "<table border=\"1\" class=\"dataframe\">\n",
       "  <thead>\n",
       "    <tr style=\"text-align: right;\">\n",
       "      <th></th>\n",
       "      <th>id</th>\n",
       "      <th>Area</th>\n",
       "      <th>MajorAxisLength</th>\n",
       "      <th>MinorAxisLength</th>\n",
       "      <th>Eccentricity</th>\n",
       "      <th>ConvexArea</th>\n",
       "      <th>EquivDiameter</th>\n",
       "      <th>Extent</th>\n",
       "      <th>Perimeter</th>\n",
       "      <th>Roundness</th>\n",
       "      <th>AspectRation</th>\n",
       "      <th>Class</th>\n",
       "    </tr>\n",
       "  </thead>\n",
       "  <tbody>\n",
       "    <tr>\n",
       "      <th>0</th>\n",
       "      <td>1</td>\n",
       "      <td>4537</td>\n",
       "      <td>92.229316</td>\n",
       "      <td>64.012769</td>\n",
       "      <td>0.719916</td>\n",
       "      <td>4677</td>\n",
       "      <td>76.004525</td>\n",
       "      <td>0.657536</td>\n",
       "      <td>273.085</td>\n",
       "      <td>0.764510</td>\n",
       "      <td>1.440796</td>\n",
       "      <td>1</td>\n",
       "    </tr>\n",
       "    <tr>\n",
       "      <th>1</th>\n",
       "      <td>2</td>\n",
       "      <td>2872</td>\n",
       "      <td>74.691881</td>\n",
       "      <td>51.400454</td>\n",
       "      <td>0.725553</td>\n",
       "      <td>3015</td>\n",
       "      <td>60.471018</td>\n",
       "      <td>0.713009</td>\n",
       "      <td>208.317</td>\n",
       "      <td>0.831658</td>\n",
       "      <td>1.453137</td>\n",
       "      <td>1</td>\n",
       "    </tr>\n",
       "    <tr>\n",
       "      <th>2</th>\n",
       "      <td>3</td>\n",
       "      <td>3048</td>\n",
       "      <td>76.293164</td>\n",
       "      <td>52.043491</td>\n",
       "      <td>0.731211</td>\n",
       "      <td>3132</td>\n",
       "      <td>62.296341</td>\n",
       "      <td>0.759153</td>\n",
       "      <td>210.012</td>\n",
       "      <td>0.868434</td>\n",
       "      <td>1.465950</td>\n",
       "      <td>1</td>\n",
       "    </tr>\n",
       "    <tr>\n",
       "      <th>3</th>\n",
       "      <td>4</td>\n",
       "      <td>3073</td>\n",
       "      <td>77.033628</td>\n",
       "      <td>51.928487</td>\n",
       "      <td>0.738639</td>\n",
       "      <td>3157</td>\n",
       "      <td>62.551300</td>\n",
       "      <td>0.783529</td>\n",
       "      <td>210.657</td>\n",
       "      <td>0.870203</td>\n",
       "      <td>1.483456</td>\n",
       "      <td>1</td>\n",
       "    </tr>\n",
       "    <tr>\n",
       "      <th>4</th>\n",
       "      <td>5</td>\n",
       "      <td>3693</td>\n",
       "      <td>85.124785</td>\n",
       "      <td>56.374021</td>\n",
       "      <td>0.749282</td>\n",
       "      <td>3802</td>\n",
       "      <td>68.571668</td>\n",
       "      <td>0.769375</td>\n",
       "      <td>230.332</td>\n",
       "      <td>0.874743</td>\n",
       "      <td>1.510000</td>\n",
       "      <td>1</td>\n",
       "    </tr>\n",
       "  </tbody>\n",
       "</table>\n",
       "</div>"
      ],
      "text/plain": [
       "   id  Area  MajorAxisLength  MinorAxisLength  Eccentricity  ConvexArea  \\\n",
       "0   1  4537        92.229316        64.012769      0.719916        4677   \n",
       "1   2  2872        74.691881        51.400454      0.725553        3015   \n",
       "2   3  3048        76.293164        52.043491      0.731211        3132   \n",
       "3   4  3073        77.033628        51.928487      0.738639        3157   \n",
       "4   5  3693        85.124785        56.374021      0.749282        3802   \n",
       "\n",
       "   EquivDiameter    Extent  Perimeter  Roundness  AspectRation  Class  \n",
       "0      76.004525  0.657536    273.085   0.764510      1.440796      1  \n",
       "1      60.471018  0.713009    208.317   0.831658      1.453137      1  \n",
       "2      62.296341  0.759153    210.012   0.868434      1.465950      1  \n",
       "3      62.551300  0.783529    210.657   0.870203      1.483456      1  \n",
       "4      68.571668  0.769375    230.332   0.874743      1.510000      1  "
      ]
     },
     "execution_count": 4,
     "metadata": {},
     "output_type": "execute_result"
    }
   ],
   "source": [
    "data.head()"
   ]
  },
  {
   "cell_type": "markdown",
   "id": "1cc228b5",
   "metadata": {
    "papermill": {
     "duration": 0.010772,
     "end_time": "2022-11-27T14:38:49.447706",
     "exception": false,
     "start_time": "2022-11-27T14:38:49.436934",
     "status": "completed"
    },
    "tags": []
   },
   "source": [
    "# Show data columns"
   ]
  },
  {
   "cell_type": "code",
   "execution_count": 5,
   "id": "dc757c09",
   "metadata": {
    "execution": {
     "iopub.execute_input": "2022-11-27T14:38:49.472672Z",
     "iopub.status.busy": "2022-11-27T14:38:49.472259Z",
     "iopub.status.idle": "2022-11-27T14:38:49.479568Z",
     "shell.execute_reply": "2022-11-27T14:38:49.478147Z"
    },
    "papermill": {
     "duration": 0.024246,
     "end_time": "2022-11-27T14:38:49.483180",
     "exception": false,
     "start_time": "2022-11-27T14:38:49.458934",
     "status": "completed"
    },
    "tags": []
   },
   "outputs": [
    {
     "name": "stdout",
     "output_type": "stream",
     "text": [
      "column 1 is : id\n",
      "column 2 is : Area\n",
      "column 3 is : MajorAxisLength\n",
      "column 4 is : MinorAxisLength\n",
      "column 5 is : Eccentricity\n",
      "column 6 is : ConvexArea\n",
      "column 7 is : EquivDiameter\n",
      "column 8 is : Extent\n",
      "column 9 is : Perimeter\n",
      "column 10 is : Roundness\n",
      "column 11 is : AspectRation\n",
      "column 12 is : Class\n"
     ]
    }
   ],
   "source": [
    "x=1\n",
    "for col in data.columns:\n",
    "    print(f'column {x} is :',col)\n",
    "    x+=1"
   ]
  },
  {
   "cell_type": "markdown",
   "id": "86a6dc3b",
   "metadata": {
    "papermill": {
     "duration": 0.01154,
     "end_time": "2022-11-27T14:38:49.507413",
     "exception": false,
     "start_time": "2022-11-27T14:38:49.495873",
     "status": "completed"
    },
    "tags": []
   },
   "source": [
    "# show data describe"
   ]
  },
  {
   "cell_type": "code",
   "execution_count": 6,
   "id": "c44bbcb3",
   "metadata": {
    "execution": {
     "iopub.execute_input": "2022-11-27T14:38:49.534192Z",
     "iopub.status.busy": "2022-11-27T14:38:49.533431Z",
     "iopub.status.idle": "2022-11-27T14:38:49.605921Z",
     "shell.execute_reply": "2022-11-27T14:38:49.604381Z"
    },
    "papermill": {
     "duration": 0.089278,
     "end_time": "2022-11-27T14:38:49.608874",
     "exception": false,
     "start_time": "2022-11-27T14:38:49.519596",
     "status": "completed"
    },
    "tags": []
   },
   "outputs": [
    {
     "data": {
      "text/html": [
       "<div>\n",
       "<style scoped>\n",
       "    .dataframe tbody tr th:only-of-type {\n",
       "        vertical-align: middle;\n",
       "    }\n",
       "\n",
       "    .dataframe tbody tr th {\n",
       "        vertical-align: top;\n",
       "    }\n",
       "\n",
       "    .dataframe thead th {\n",
       "        text-align: right;\n",
       "    }\n",
       "</style>\n",
       "<table border=\"1\" class=\"dataframe\">\n",
       "  <thead>\n",
       "    <tr style=\"text-align: right;\">\n",
       "      <th></th>\n",
       "      <th>id</th>\n",
       "      <th>Area</th>\n",
       "      <th>MajorAxisLength</th>\n",
       "      <th>MinorAxisLength</th>\n",
       "      <th>Eccentricity</th>\n",
       "      <th>ConvexArea</th>\n",
       "      <th>EquivDiameter</th>\n",
       "      <th>Extent</th>\n",
       "      <th>Perimeter</th>\n",
       "      <th>Roundness</th>\n",
       "      <th>AspectRation</th>\n",
       "      <th>Class</th>\n",
       "    </tr>\n",
       "  </thead>\n",
       "  <tbody>\n",
       "    <tr>\n",
       "      <th>count</th>\n",
       "      <td>18185.000000</td>\n",
       "      <td>18185.000000</td>\n",
       "      <td>18185.000000</td>\n",
       "      <td>18185.000000</td>\n",
       "      <td>18185.000000</td>\n",
       "      <td>18185.000000</td>\n",
       "      <td>18185.000000</td>\n",
       "      <td>18185.000000</td>\n",
       "      <td>18185.000000</td>\n",
       "      <td>18185.000000</td>\n",
       "      <td>18185.000000</td>\n",
       "      <td>18185.000000</td>\n",
       "    </tr>\n",
       "    <tr>\n",
       "      <th>mean</th>\n",
       "      <td>9093.000000</td>\n",
       "      <td>7036.492989</td>\n",
       "      <td>151.680754</td>\n",
       "      <td>59.807851</td>\n",
       "      <td>0.915406</td>\n",
       "      <td>7225.817872</td>\n",
       "      <td>94.132952</td>\n",
       "      <td>0.616653</td>\n",
       "      <td>351.606949</td>\n",
       "      <td>0.707998</td>\n",
       "      <td>2.599081</td>\n",
       "      <td>0.549079</td>\n",
       "    </tr>\n",
       "    <tr>\n",
       "      <th>std</th>\n",
       "      <td>5249.701658</td>\n",
       "      <td>1467.197150</td>\n",
       "      <td>12.376402</td>\n",
       "      <td>10.061653</td>\n",
       "      <td>0.030575</td>\n",
       "      <td>1502.006571</td>\n",
       "      <td>9.906250</td>\n",
       "      <td>0.104389</td>\n",
       "      <td>29.500620</td>\n",
       "      <td>0.067310</td>\n",
       "      <td>0.434836</td>\n",
       "      <td>0.497599</td>\n",
       "    </tr>\n",
       "    <tr>\n",
       "      <th>min</th>\n",
       "      <td>1.000000</td>\n",
       "      <td>2522.000000</td>\n",
       "      <td>74.133114</td>\n",
       "      <td>34.409894</td>\n",
       "      <td>0.676647</td>\n",
       "      <td>2579.000000</td>\n",
       "      <td>56.666658</td>\n",
       "      <td>0.383239</td>\n",
       "      <td>197.015000</td>\n",
       "      <td>0.174590</td>\n",
       "      <td>1.358128</td>\n",
       "      <td>0.000000</td>\n",
       "    </tr>\n",
       "    <tr>\n",
       "      <th>25%</th>\n",
       "      <td>4547.000000</td>\n",
       "      <td>5962.000000</td>\n",
       "      <td>145.675910</td>\n",
       "      <td>51.393151</td>\n",
       "      <td>0.891617</td>\n",
       "      <td>6125.000000</td>\n",
       "      <td>87.126656</td>\n",
       "      <td>0.538530</td>\n",
       "      <td>333.990000</td>\n",
       "      <td>0.650962</td>\n",
       "      <td>2.208527</td>\n",
       "      <td>0.000000</td>\n",
       "    </tr>\n",
       "    <tr>\n",
       "      <th>50%</th>\n",
       "      <td>9093.000000</td>\n",
       "      <td>6660.000000</td>\n",
       "      <td>153.883750</td>\n",
       "      <td>55.724288</td>\n",
       "      <td>0.923259</td>\n",
       "      <td>6843.000000</td>\n",
       "      <td>92.085696</td>\n",
       "      <td>0.601194</td>\n",
       "      <td>353.088000</td>\n",
       "      <td>0.701941</td>\n",
       "      <td>2.602966</td>\n",
       "      <td>1.000000</td>\n",
       "    </tr>\n",
       "    <tr>\n",
       "      <th>75%</th>\n",
       "      <td>13639.000000</td>\n",
       "      <td>8423.000000</td>\n",
       "      <td>160.056214</td>\n",
       "      <td>70.156593</td>\n",
       "      <td>0.941372</td>\n",
       "      <td>8645.000000</td>\n",
       "      <td>103.559146</td>\n",
       "      <td>0.695664</td>\n",
       "      <td>373.003000</td>\n",
       "      <td>0.769280</td>\n",
       "      <td>2.964101</td>\n",
       "      <td>1.000000</td>\n",
       "    </tr>\n",
       "    <tr>\n",
       "      <th>max</th>\n",
       "      <td>18185.000000</td>\n",
       "      <td>10210.000000</td>\n",
       "      <td>183.211434</td>\n",
       "      <td>82.550762</td>\n",
       "      <td>0.966774</td>\n",
       "      <td>11008.000000</td>\n",
       "      <td>114.016559</td>\n",
       "      <td>0.886573</td>\n",
       "      <td>508.511000</td>\n",
       "      <td>0.904748</td>\n",
       "      <td>3.911845</td>\n",
       "      <td>1.000000</td>\n",
       "    </tr>\n",
       "  </tbody>\n",
       "</table>\n",
       "</div>"
      ],
      "text/plain": [
       "                 id          Area  MajorAxisLength  MinorAxisLength  \\\n",
       "count  18185.000000  18185.000000     18185.000000     18185.000000   \n",
       "mean    9093.000000   7036.492989       151.680754        59.807851   \n",
       "std     5249.701658   1467.197150        12.376402        10.061653   \n",
       "min        1.000000   2522.000000        74.133114        34.409894   \n",
       "25%     4547.000000   5962.000000       145.675910        51.393151   \n",
       "50%     9093.000000   6660.000000       153.883750        55.724288   \n",
       "75%    13639.000000   8423.000000       160.056214        70.156593   \n",
       "max    18185.000000  10210.000000       183.211434        82.550762   \n",
       "\n",
       "       Eccentricity    ConvexArea  EquivDiameter        Extent     Perimeter  \\\n",
       "count  18185.000000  18185.000000   18185.000000  18185.000000  18185.000000   \n",
       "mean       0.915406   7225.817872      94.132952      0.616653    351.606949   \n",
       "std        0.030575   1502.006571       9.906250      0.104389     29.500620   \n",
       "min        0.676647   2579.000000      56.666658      0.383239    197.015000   \n",
       "25%        0.891617   6125.000000      87.126656      0.538530    333.990000   \n",
       "50%        0.923259   6843.000000      92.085696      0.601194    353.088000   \n",
       "75%        0.941372   8645.000000     103.559146      0.695664    373.003000   \n",
       "max        0.966774  11008.000000     114.016559      0.886573    508.511000   \n",
       "\n",
       "          Roundness  AspectRation         Class  \n",
       "count  18185.000000  18185.000000  18185.000000  \n",
       "mean       0.707998      2.599081      0.549079  \n",
       "std        0.067310      0.434836      0.497599  \n",
       "min        0.174590      1.358128      0.000000  \n",
       "25%        0.650962      2.208527      0.000000  \n",
       "50%        0.701941      2.602966      1.000000  \n",
       "75%        0.769280      2.964101      1.000000  \n",
       "max        0.904748      3.911845      1.000000  "
      ]
     },
     "execution_count": 6,
     "metadata": {},
     "output_type": "execute_result"
    }
   ],
   "source": [
    "data.describe()"
   ]
  },
  {
   "cell_type": "markdown",
   "id": "aef22358",
   "metadata": {
    "papermill": {
     "duration": 0.011289,
     "end_time": "2022-11-27T14:38:49.632613",
     "exception": false,
     "start_time": "2022-11-27T14:38:49.621324",
     "status": "completed"
    },
    "tags": []
   },
   "source": [
    "# Show data corr"
   ]
  },
  {
   "cell_type": "code",
   "execution_count": 7,
   "id": "a70388c2",
   "metadata": {
    "execution": {
     "iopub.execute_input": "2022-11-27T14:38:49.658439Z",
     "iopub.status.busy": "2022-11-27T14:38:49.657970Z",
     "iopub.status.idle": "2022-11-27T14:38:49.694089Z",
     "shell.execute_reply": "2022-11-27T14:38:49.692828Z"
    },
    "papermill": {
     "duration": 0.052933,
     "end_time": "2022-11-27T14:38:49.697259",
     "exception": false,
     "start_time": "2022-11-27T14:38:49.644326",
     "status": "completed"
    },
    "tags": []
   },
   "outputs": [
    {
     "data": {
      "text/html": [
       "<div>\n",
       "<style scoped>\n",
       "    .dataframe tbody tr th:only-of-type {\n",
       "        vertical-align: middle;\n",
       "    }\n",
       "\n",
       "    .dataframe tbody tr th {\n",
       "        vertical-align: top;\n",
       "    }\n",
       "\n",
       "    .dataframe thead th {\n",
       "        text-align: right;\n",
       "    }\n",
       "</style>\n",
       "<table border=\"1\" class=\"dataframe\">\n",
       "  <thead>\n",
       "    <tr style=\"text-align: right;\">\n",
       "      <th></th>\n",
       "      <th>id</th>\n",
       "      <th>Area</th>\n",
       "      <th>MajorAxisLength</th>\n",
       "      <th>MinorAxisLength</th>\n",
       "      <th>Eccentricity</th>\n",
       "      <th>ConvexArea</th>\n",
       "      <th>EquivDiameter</th>\n",
       "      <th>Extent</th>\n",
       "      <th>Perimeter</th>\n",
       "      <th>Roundness</th>\n",
       "      <th>AspectRation</th>\n",
       "      <th>Class</th>\n",
       "    </tr>\n",
       "  </thead>\n",
       "  <tbody>\n",
       "    <tr>\n",
       "      <th>id</th>\n",
       "      <td>1.000000</td>\n",
       "      <td>0.709155</td>\n",
       "      <td>0.464022</td>\n",
       "      <td>0.637148</td>\n",
       "      <td>-0.347816</td>\n",
       "      <td>0.707600</td>\n",
       "      <td>0.706333</td>\n",
       "      <td>0.149924</td>\n",
       "      <td>0.628830</td>\n",
       "      <td>0.430033</td>\n",
       "      <td>-0.382648</td>\n",
       "      <td>-0.808591</td>\n",
       "    </tr>\n",
       "    <tr>\n",
       "      <th>Area</th>\n",
       "      <td>0.709155</td>\n",
       "      <td>1.000000</td>\n",
       "      <td>0.599939</td>\n",
       "      <td>0.930215</td>\n",
       "      <td>-0.550073</td>\n",
       "      <td>0.999362</td>\n",
       "      <td>0.998158</td>\n",
       "      <td>0.230541</td>\n",
       "      <td>0.881540</td>\n",
       "      <td>0.620490</td>\n",
       "      <td>-0.623979</td>\n",
       "      <td>-0.816589</td>\n",
       "    </tr>\n",
       "    <tr>\n",
       "      <th>MajorAxisLength</th>\n",
       "      <td>0.464022</td>\n",
       "      <td>0.599939</td>\n",
       "      <td>1.000000</td>\n",
       "      <td>0.273211</td>\n",
       "      <td>0.295717</td>\n",
       "      <td>0.602061</td>\n",
       "      <td>0.618002</td>\n",
       "      <td>-0.073549</td>\n",
       "      <td>0.870178</td>\n",
       "      <td>-0.202566</td>\n",
       "      <td>0.240471</td>\n",
       "      <td>-0.147741</td>\n",
       "    </tr>\n",
       "    <tr>\n",
       "      <th>MinorAxisLength</th>\n",
       "      <td>0.637148</td>\n",
       "      <td>0.930215</td>\n",
       "      <td>0.273211</td>\n",
       "      <td>1.000000</td>\n",
       "      <td>-0.808640</td>\n",
       "      <td>0.928992</td>\n",
       "      <td>0.923790</td>\n",
       "      <td>0.308541</td>\n",
       "      <td>0.674249</td>\n",
       "      <td>0.834398</td>\n",
       "      <td>-0.860516</td>\n",
       "      <td>-0.917766</td>\n",
       "    </tr>\n",
       "    <tr>\n",
       "      <th>Eccentricity</th>\n",
       "      <td>-0.347816</td>\n",
       "      <td>-0.550073</td>\n",
       "      <td>0.295717</td>\n",
       "      <td>-0.808640</td>\n",
       "      <td>1.000000</td>\n",
       "      <td>-0.547896</td>\n",
       "      <td>-0.534688</td>\n",
       "      <td>-0.329954</td>\n",
       "      <td>-0.165915</td>\n",
       "      <td>-0.903657</td>\n",
       "      <td>0.950301</td>\n",
       "      <td>0.788636</td>\n",
       "    </tr>\n",
       "    <tr>\n",
       "      <th>ConvexArea</th>\n",
       "      <td>0.707600</td>\n",
       "      <td>0.999362</td>\n",
       "      <td>0.602061</td>\n",
       "      <td>0.928992</td>\n",
       "      <td>-0.547896</td>\n",
       "      <td>1.000000</td>\n",
       "      <td>0.997403</td>\n",
       "      <td>0.227359</td>\n",
       "      <td>0.886987</td>\n",
       "      <td>0.610236</td>\n",
       "      <td>-0.621472</td>\n",
       "      <td>-0.814214</td>\n",
       "    </tr>\n",
       "    <tr>\n",
       "      <th>EquivDiameter</th>\n",
       "      <td>0.706333</td>\n",
       "      <td>0.998158</td>\n",
       "      <td>0.618002</td>\n",
       "      <td>0.923790</td>\n",
       "      <td>-0.534688</td>\n",
       "      <td>0.997403</td>\n",
       "      <td>1.000000</td>\n",
       "      <td>0.225944</td>\n",
       "      <td>0.891567</td>\n",
       "      <td>0.607432</td>\n",
       "      <td>-0.609957</td>\n",
       "      <td>-0.809361</td>\n",
       "    </tr>\n",
       "    <tr>\n",
       "      <th>Extent</th>\n",
       "      <td>0.149924</td>\n",
       "      <td>0.230541</td>\n",
       "      <td>-0.073549</td>\n",
       "      <td>0.308541</td>\n",
       "      <td>-0.329954</td>\n",
       "      <td>0.227359</td>\n",
       "      <td>0.225944</td>\n",
       "      <td>1.000000</td>\n",
       "      <td>0.073227</td>\n",
       "      <td>0.366793</td>\n",
       "      <td>-0.350875</td>\n",
       "      <td>-0.303440</td>\n",
       "    </tr>\n",
       "    <tr>\n",
       "      <th>Perimeter</th>\n",
       "      <td>0.628830</td>\n",
       "      <td>0.881540</td>\n",
       "      <td>0.870178</td>\n",
       "      <td>0.674249</td>\n",
       "      <td>-0.165915</td>\n",
       "      <td>0.886987</td>\n",
       "      <td>0.891567</td>\n",
       "      <td>0.073227</td>\n",
       "      <td>1.000000</td>\n",
       "      <td>0.186063</td>\n",
       "      <td>-0.227256</td>\n",
       "      <td>-0.533274</td>\n",
       "    </tr>\n",
       "    <tr>\n",
       "      <th>Roundness</th>\n",
       "      <td>0.430033</td>\n",
       "      <td>0.620490</td>\n",
       "      <td>-0.202566</td>\n",
       "      <td>0.834398</td>\n",
       "      <td>-0.903657</td>\n",
       "      <td>0.610236</td>\n",
       "      <td>0.607432</td>\n",
       "      <td>0.366793</td>\n",
       "      <td>0.186063</td>\n",
       "      <td>1.000000</td>\n",
       "      <td>-0.947875</td>\n",
       "      <td>-0.831759</td>\n",
       "    </tr>\n",
       "    <tr>\n",
       "      <th>AspectRation</th>\n",
       "      <td>-0.382648</td>\n",
       "      <td>-0.623979</td>\n",
       "      <td>0.240471</td>\n",
       "      <td>-0.860516</td>\n",
       "      <td>0.950301</td>\n",
       "      <td>-0.621472</td>\n",
       "      <td>-0.609957</td>\n",
       "      <td>-0.350875</td>\n",
       "      <td>-0.227256</td>\n",
       "      <td>-0.947875</td>\n",
       "      <td>1.000000</td>\n",
       "      <td>0.832563</td>\n",
       "    </tr>\n",
       "    <tr>\n",
       "      <th>Class</th>\n",
       "      <td>-0.808591</td>\n",
       "      <td>-0.816589</td>\n",
       "      <td>-0.147741</td>\n",
       "      <td>-0.917766</td>\n",
       "      <td>0.788636</td>\n",
       "      <td>-0.814214</td>\n",
       "      <td>-0.809361</td>\n",
       "      <td>-0.303440</td>\n",
       "      <td>-0.533274</td>\n",
       "      <td>-0.831759</td>\n",
       "      <td>0.832563</td>\n",
       "      <td>1.000000</td>\n",
       "    </tr>\n",
       "  </tbody>\n",
       "</table>\n",
       "</div>"
      ],
      "text/plain": [
       "                       id      Area  MajorAxisLength  MinorAxisLength  \\\n",
       "id               1.000000  0.709155         0.464022         0.637148   \n",
       "Area             0.709155  1.000000         0.599939         0.930215   \n",
       "MajorAxisLength  0.464022  0.599939         1.000000         0.273211   \n",
       "MinorAxisLength  0.637148  0.930215         0.273211         1.000000   \n",
       "Eccentricity    -0.347816 -0.550073         0.295717        -0.808640   \n",
       "ConvexArea       0.707600  0.999362         0.602061         0.928992   \n",
       "EquivDiameter    0.706333  0.998158         0.618002         0.923790   \n",
       "Extent           0.149924  0.230541        -0.073549         0.308541   \n",
       "Perimeter        0.628830  0.881540         0.870178         0.674249   \n",
       "Roundness        0.430033  0.620490        -0.202566         0.834398   \n",
       "AspectRation    -0.382648 -0.623979         0.240471        -0.860516   \n",
       "Class           -0.808591 -0.816589        -0.147741        -0.917766   \n",
       "\n",
       "                 Eccentricity  ConvexArea  EquivDiameter    Extent  Perimeter  \\\n",
       "id                  -0.347816    0.707600       0.706333  0.149924   0.628830   \n",
       "Area                -0.550073    0.999362       0.998158  0.230541   0.881540   \n",
       "MajorAxisLength      0.295717    0.602061       0.618002 -0.073549   0.870178   \n",
       "MinorAxisLength     -0.808640    0.928992       0.923790  0.308541   0.674249   \n",
       "Eccentricity         1.000000   -0.547896      -0.534688 -0.329954  -0.165915   \n",
       "ConvexArea          -0.547896    1.000000       0.997403  0.227359   0.886987   \n",
       "EquivDiameter       -0.534688    0.997403       1.000000  0.225944   0.891567   \n",
       "Extent              -0.329954    0.227359       0.225944  1.000000   0.073227   \n",
       "Perimeter           -0.165915    0.886987       0.891567  0.073227   1.000000   \n",
       "Roundness           -0.903657    0.610236       0.607432  0.366793   0.186063   \n",
       "AspectRation         0.950301   -0.621472      -0.609957 -0.350875  -0.227256   \n",
       "Class                0.788636   -0.814214      -0.809361 -0.303440  -0.533274   \n",
       "\n",
       "                 Roundness  AspectRation     Class  \n",
       "id                0.430033     -0.382648 -0.808591  \n",
       "Area              0.620490     -0.623979 -0.816589  \n",
       "MajorAxisLength  -0.202566      0.240471 -0.147741  \n",
       "MinorAxisLength   0.834398     -0.860516 -0.917766  \n",
       "Eccentricity     -0.903657      0.950301  0.788636  \n",
       "ConvexArea        0.610236     -0.621472 -0.814214  \n",
       "EquivDiameter     0.607432     -0.609957 -0.809361  \n",
       "Extent            0.366793     -0.350875 -0.303440  \n",
       "Perimeter         0.186063     -0.227256 -0.533274  \n",
       "Roundness         1.000000     -0.947875 -0.831759  \n",
       "AspectRation     -0.947875      1.000000  0.832563  \n",
       "Class            -0.831759      0.832563  1.000000  "
      ]
     },
     "execution_count": 7,
     "metadata": {},
     "output_type": "execute_result"
    }
   ],
   "source": [
    "data.corr()"
   ]
  },
  {
   "cell_type": "markdown",
   "id": "f7417d21",
   "metadata": {
    "papermill": {
     "duration": 0.011788,
     "end_time": "2022-11-27T14:38:49.721428",
     "exception": false,
     "start_time": "2022-11-27T14:38:49.709640",
     "status": "completed"
    },
    "tags": []
   },
   "source": [
    "# Display data corr"
   ]
  },
  {
   "cell_type": "code",
   "execution_count": 8,
   "id": "1d261aba",
   "metadata": {
    "execution": {
     "iopub.execute_input": "2022-11-27T14:38:49.748267Z",
     "iopub.status.busy": "2022-11-27T14:38:49.747782Z",
     "iopub.status.idle": "2022-11-27T14:38:50.264013Z",
     "shell.execute_reply": "2022-11-27T14:38:50.262544Z"
    },
    "papermill": {
     "duration": 0.53322,
     "end_time": "2022-11-27T14:38:50.267123",
     "exception": false,
     "start_time": "2022-11-27T14:38:49.733903",
     "status": "completed"
    },
    "tags": []
   },
   "outputs": [
    {
     "data": {
      "text/plain": [
       "<AxesSubplot:>"
      ]
     },
     "execution_count": 8,
     "metadata": {},
     "output_type": "execute_result"
    },
    {
     "data": {
      "image/png": "[encoded data removed]",
      "text/plain": [
       "<Figure size 432x288 with 2 Axes>"
      ]
     },
     "metadata": {
      "needs_background": "light"
     },
     "output_type": "display_data"
    }
   ],
   "source": [
    "sns.heatmap(data.corr())"
   ]
  },
  {
   "cell_type": "markdown",
   "id": "798e8d8e",
   "metadata": {
    "papermill": {
     "duration": 0.013027,
     "end_time": "2022-11-27T14:38:50.294890",
     "exception": false,
     "start_time": "2022-11-27T14:38:50.281863",
     "status": "completed"
    },
    "tags": []
   },
   "source": [
    "# Show data info"
   ]
  },
  {
   "cell_type": "code",
   "execution_count": 9,
   "id": "81ec7968",
   "metadata": {
    "execution": {
     "iopub.execute_input": "2022-11-27T14:38:50.323439Z",
     "iopub.status.busy": "2022-11-27T14:38:50.322981Z",
     "iopub.status.idle": "2022-11-27T14:38:50.342690Z",
     "shell.execute_reply": "2022-11-27T14:38:50.341724Z"
    },
    "papermill": {
     "duration": 0.038209,
     "end_time": "2022-11-27T14:38:50.346177",
     "exception": false,
     "start_time": "2022-11-27T14:38:50.307968",
     "status": "completed"
    },
    "tags": []
   },
   "outputs": [
    {
     "name": "stdout",
     "output_type": "stream",
     "text": [
      "<class 'pandas.core.frame.DataFrame'>\n",
      "RangeIndex: 18185 entries, 0 to 18184\n",
      "Data columns (total 12 columns):\n",
      " #   Column           Non-Null Count  Dtype  \n",
      "---  ------           --------------  -----  \n",
      " 0   id               18185 non-null  int64  \n",
      " 1   Area             18185 non-null  int64  \n",
      " 2   MajorAxisLength  18185 non-null  float64\n",
      " 3   MinorAxisLength  18185 non-null  float64\n",
      " 4   Eccentricity     18185 non-null  float64\n",
      " 5   ConvexArea       18185 non-null  int64  \n",
      " 6   EquivDiameter    18185 non-null  float64\n",
      " 7   Extent           18185 non-null  float64\n",
      " 8   Perimeter        18185 non-null  float64\n",
      " 9   Roundness        18185 non-null  float64\n",
      " 10  AspectRation     18185 non-null  float64\n",
      " 11  Class            18185 non-null  int64  \n",
      "dtypes: float64(8), int64(4)\n",
      "memory usage: 1.7 MB\n"
     ]
    }
   ],
   "source": [
    "data.info()"
   ]
  },
  {
   "cell_type": "markdown",
   "id": "adbe9751",
   "metadata": {
    "papermill": {
     "duration": 0.013233,
     "end_time": "2022-11-27T14:38:50.373544",
     "exception": false,
     "start_time": "2022-11-27T14:38:50.360311",
     "status": "completed"
    },
    "tags": []
   },
   "source": [
    "# Show data contain null data"
   ]
  },
  {
   "cell_type": "code",
   "execution_count": 10,
   "id": "cd8ca4d9",
   "metadata": {
    "execution": {
     "iopub.execute_input": "2022-11-27T14:38:50.402926Z",
     "iopub.status.busy": "2022-11-27T14:38:50.402434Z",
     "iopub.status.idle": "2022-11-27T14:38:50.413301Z",
     "shell.execute_reply": "2022-11-27T14:38:50.412030Z"
    },
    "papermill": {
     "duration": 0.028924,
     "end_time": "2022-11-27T14:38:50.416031",
     "exception": false,
     "start_time": "2022-11-27T14:38:50.387107",
     "status": "completed"
    },
    "tags": []
   },
   "outputs": [
    {
     "data": {
      "text/plain": [
       "id                 0\n",
       "Area               0\n",
       "MajorAxisLength    0\n",
       "MinorAxisLength    0\n",
       "Eccentricity       0\n",
       "ConvexArea         0\n",
       "EquivDiameter      0\n",
       "Extent             0\n",
       "Perimeter          0\n",
       "Roundness          0\n",
       "AspectRation       0\n",
       "Class              0\n",
       "dtype: int64"
      ]
     },
     "execution_count": 10,
     "metadata": {},
     "output_type": "execute_result"
    }
   ],
   "source": [
    "data.isnull().sum()"
   ]
  },
  {
   "cell_type": "markdown",
   "id": "5bb01156",
   "metadata": {
    "papermill": {
     "duration": 0.012591,
     "end_time": "2022-11-27T14:38:50.441677",
     "exception": false,
     "start_time": "2022-11-27T14:38:50.429086",
     "status": "completed"
    },
    "tags": []
   },
   "source": [
    "# Show data contain duplicate data"
   ]
  },
  {
   "cell_type": "code",
   "execution_count": 11,
   "id": "bc0e4f75",
   "metadata": {
    "execution": {
     "iopub.execute_input": "2022-11-27T14:38:50.470770Z",
     "iopub.status.busy": "2022-11-27T14:38:50.470073Z",
     "iopub.status.idle": "2022-11-27T14:38:50.497901Z",
     "shell.execute_reply": "2022-11-27T14:38:50.496521Z"
    },
    "papermill": {
     "duration": 0.045776,
     "end_time": "2022-11-27T14:38:50.500779",
     "exception": false,
     "start_time": "2022-11-27T14:38:50.455003",
     "status": "completed"
    },
    "tags": []
   },
   "outputs": [
    {
     "data": {
      "text/plain": [
       "0"
      ]
     },
     "execution_count": 11,
     "metadata": {},
     "output_type": "execute_result"
    }
   ],
   "source": [
    "data.duplicated().sum()"
   ]
  },
  {
   "cell_type": "markdown",
   "id": "84a7253e",
   "metadata": {
    "papermill": {
     "duration": 0.012307,
     "end_time": "2022-11-27T14:38:50.526218",
     "exception": false,
     "start_time": "2022-11-27T14:38:50.513911",
     "status": "completed"
    },
    "tags": []
   },
   "source": [
    "# Show input X and oytput y"
   ]
  },
  {
   "cell_type": "code",
   "execution_count": 12,
   "id": "5fb00664",
   "metadata": {
    "execution": {
     "iopub.execute_input": "2022-11-27T14:38:50.554070Z",
     "iopub.status.busy": "2022-11-27T14:38:50.553578Z",
     "iopub.status.idle": "2022-11-27T14:38:50.570995Z",
     "shell.execute_reply": "2022-11-27T14:38:50.569835Z"
    },
    "papermill": {
     "duration": 0.034721,
     "end_time": "2022-11-27T14:38:50.573606",
     "exception": false,
     "start_time": "2022-11-27T14:38:50.538885",
     "status": "completed"
    },
    "tags": []
   },
   "outputs": [
    {
     "data": {
      "text/plain": [
       "(   id  Area  MajorAxisLength  MinorAxisLength  Eccentricity  ConvexArea  \\\n",
       " 0   1  4537        92.229316        64.012769      0.719916        4677   \n",
       " 1   2  2872        74.691881        51.400454      0.725553        3015   \n",
       " 2   3  3048        76.293164        52.043491      0.731211        3132   \n",
       " 3   4  3073        77.033628        51.928487      0.738639        3157   \n",
       " 4   5  3693        85.124785        56.374021      0.749282        3802   \n",
       " 5   6  2990        77.417073        50.954344      0.752861        3080   \n",
       " 6   7  3556        84.323564        55.413061      0.753762        3636   \n",
       " 7   8  3788        86.952411        56.444769      0.760664        3866   \n",
       " 8   9  2629        74.133114        48.074144      0.761228        2790   \n",
       " 9  10  5719       106.721142        68.977700      0.763053        5819   \n",
       " \n",
       "    EquivDiameter    Extent  Perimeter  Roundness  AspectRation  \n",
       " 0      76.004525  0.657536    273.085   0.764510      1.440796  \n",
       " 1      60.471018  0.713009    208.317   0.831658      1.453137  \n",
       " 2      62.296341  0.759153    210.012   0.868434      1.465950  \n",
       " 3      62.551300  0.783529    210.657   0.870203      1.483456  \n",
       " 4      68.571668  0.769375    230.332   0.874743      1.510000  \n",
       " 5      61.700780  0.584898    216.930   0.798439      1.519342  \n",
       " 6      67.287739  0.750211    227.007   0.867148      1.521727  \n",
       " 7      69.448048  0.800676    235.476   0.858473      1.540487  \n",
       " 8      57.856260  0.640595    207.325   0.768594      1.542058  \n",
       " 9      85.332625  0.754983    281.839   0.904748      1.547183  ,\n",
       " 0    1\n",
       " 1    1\n",
       " 2    1\n",
       " 3    1\n",
       " 4    1\n",
       " 5    1\n",
       " 6    1\n",
       " 7    1\n",
       " 8    1\n",
       " 9    1\n",
       " Name: Class, dtype: int64)"
      ]
     },
     "execution_count": 12,
     "metadata": {},
     "output_type": "execute_result"
    }
   ],
   "source": [
    "X=data.iloc[:,:-1]\n",
    "y=data.iloc[:,-1]\n",
    "X[:10],y[:10]"
   ]
  },
  {
   "cell_type": "markdown",
   "id": "bd1dd77c",
   "metadata": {
    "papermill": {
     "duration": 0.012418,
     "end_time": "2022-11-27T14:38:50.598864",
     "exception": false,
     "start_time": "2022-11-27T14:38:50.586446",
     "status": "completed"
    },
    "tags": []
   },
   "source": [
    "# MinMaxScaler for Data"
   ]
  },
  {
   "cell_type": "code",
   "execution_count": 13,
   "id": "ae852305",
   "metadata": {
    "execution": {
     "iopub.execute_input": "2022-11-27T14:38:50.627369Z",
     "iopub.status.busy": "2022-11-27T14:38:50.625946Z",
     "iopub.status.idle": "2022-11-27T14:38:50.639585Z",
     "shell.execute_reply": "2022-11-27T14:38:50.638222Z"
    },
    "papermill": {
     "duration": 0.03109,
     "end_time": "2022-11-27T14:38:50.642736",
     "exception": false,
     "start_time": "2022-11-27T14:38:50.611646",
     "status": "completed"
    },
    "tags": []
   },
   "outputs": [],
   "source": [
    "scaler = MinMaxScaler(copy=True, feature_range=(0, 1))\n",
    "X = scaler.fit_transform(X)"
   ]
  },
  {
   "cell_type": "markdown",
   "id": "93da0219",
   "metadata": {
    "papermill": {
     "duration": 0.01253,
     "end_time": "2022-11-27T14:38:50.668751",
     "exception": false,
     "start_time": "2022-11-27T14:38:50.656221",
     "status": "completed"
    },
    "tags": []
   },
   "source": [
    "# showing data"
   ]
  },
  {
   "cell_type": "code",
   "execution_count": 14,
   "id": "a5bc58b7",
   "metadata": {
    "execution": {
     "iopub.execute_input": "2022-11-27T14:38:50.695958Z",
     "iopub.status.busy": "2022-11-27T14:38:50.695506Z",
     "iopub.status.idle": "2022-11-27T14:38:50.703502Z",
     "shell.execute_reply": "2022-11-27T14:38:50.702292Z"
    },
    "papermill": {
     "duration": 0.024932,
     "end_time": "2022-11-27T14:38:50.706352",
     "exception": false,
     "start_time": "2022-11-27T14:38:50.681420",
     "status": "completed"
    },
    "tags": []
   },
   "outputs": [
    {
     "name": "stdout",
     "output_type": "stream",
     "text": [
      "X \n",
      " [[0.00000000e+00 2.62096774e-01 1.65901000e-01 6.14921912e-01\n",
      "  1.49138919e-01 2.48902598e-01 3.37190938e-01 5.44960448e-01\n",
      "  2.44208593e-01 8.07933800e-01 3.23714166e-02]\n",
      " [5.49934008e-05 4.55254943e-02 5.12261894e-03 3.52934232e-01\n",
      "  1.68566717e-01 5.17261834e-02 6.63359399e-02 6.55171000e-01\n",
      "  3.62829699e-02 8.99898243e-01 3.72039683e-02]\n",
      " [1.09986802e-04 6.84183143e-02 1.98027413e-02 3.66291629e-01\n",
      "  1.88069170e-01 6.56068336e-02 9.81637824e-02 7.46848193e-01\n",
      "  4.17244523e-02 9.50264555e-01 4.22215853e-02]\n",
      " [1.64980202e-04 7.16701353e-02 2.65911106e-02 3.63902713e-01\n",
      "  2.13670983e-01 6.85727844e-02 1.02609451e-01 7.95276556e-01\n",
      "  4.37951049e-02 9.52688061e-01 4.90766520e-02]\n",
      " [2.19973603e-04 1.52315297e-01 1.00768608e-01 4.56246995e-01\n",
      "  2.50354568e-01 1.45094317e-01 2.07585535e-01 7.67156431e-01\n",
      "  1.06958035e-01 9.58906116e-01 5.94709892e-02]\n",
      " [2.74967004e-04 6.08740895e-02 3.01064352e-02 3.43667462e-01\n",
      "  2.62691629e-01 5.94376557e-02 8.77790853e-02 4.00646792e-01\n",
      "  6.39334052e-02 8.54402540e-01 6.31290805e-02]\n",
      " [3.29960405e-04 1.34495317e-01 9.34232404e-02 4.36285593e-01\n",
      "  2.65796084e-01 1.25400403e-01 1.85197895e-01 7.29082243e-01\n",
      "  9.62837404e-02 9.48503579e-01 6.40631148e-02]\n",
      " [3.84953806e-04 1.64672216e-01 1.17523788e-01 4.57716600e-01\n",
      "  2.89588003e-01 1.52687152e-01 2.22866821e-01 8.29344555e-01\n",
      "  1.23471890e-01 9.36622602e-01 7.14090376e-02]\n",
      " [4.39947206e-04 1.39177940e-02 0.00000000e+00 2.83838880e-01\n",
      "  2.91531895e-01 2.50326255e-02 2.07428687e-02 5.11301498e-01\n",
      "  3.30983383e-02 8.13527908e-01 7.20243260e-02]\n",
      " [4.94940607e-04 4.15842872e-01 2.98758061e-01 7.18055306e-01\n",
      "  2.97821699e-01 3.84387235e-01 4.99843362e-01 7.38564075e-01\n",
      "  2.72311683e-01 1.00000000e+00 7.40313389e-02]]\n",
      "y \n",
      " 0    1\n",
      "1    1\n",
      "2    1\n",
      "3    1\n",
      "4    1\n",
      "5    1\n",
      "6    1\n",
      "7    1\n",
      "8    1\n",
      "9    1\n",
      "Name: Class, dtype: int64\n"
     ]
    }
   ],
   "source": [
    "print('X \\n' , X[:10])\n",
    "print('y \\n' , y[:10])"
   ]
  },
  {
   "cell_type": "markdown",
   "id": "3c01c71d",
   "metadata": {
    "papermill": {
     "duration": 0.013145,
     "end_time": "2022-11-27T14:38:50.733165",
     "exception": false,
     "start_time": "2022-11-27T14:38:50.720020",
     "status": "completed"
    },
    "tags": []
   },
   "source": [
    "# Splitting data"
   ]
  },
  {
   "cell_type": "code",
   "execution_count": 15,
   "id": "6a2165d6",
   "metadata": {
    "execution": {
     "iopub.execute_input": "2022-11-27T14:38:50.761299Z",
     "iopub.status.busy": "2022-11-27T14:38:50.760858Z",
     "iopub.status.idle": "2022-11-27T14:38:50.772781Z",
     "shell.execute_reply": "2022-11-27T14:38:50.770938Z"
    },
    "papermill": {
     "duration": 0.03015,
     "end_time": "2022-11-27T14:38:50.776291",
     "exception": false,
     "start_time": "2022-11-27T14:38:50.746141",
     "status": "completed"
    },
    "tags": []
   },
   "outputs": [
    {
     "name": "stdout",
     "output_type": "stream",
     "text": [
      "X_train shape is  (12183, 11)\n",
      "X_test shape is  (6002, 11)\n",
      "y_train shape is  (12183,)\n",
      "y_test shape is  (6002,)\n"
     ]
    }
   ],
   "source": [
    "X_train, X_test, y_train, y_test = train_test_split(X, y, test_size=0.33, random_state=44, shuffle =True)\n",
    "print('X_train shape is ' , X_train.shape)\n",
    "print('X_test shape is ' , X_test.shape)\n",
    "print('y_train shape is ' , y_train.shape)\n",
    "print('y_test shape is ' , y_test.shape)"
   ]
  },
  {
   "cell_type": "markdown",
   "id": "364b972d",
   "metadata": {
    "papermill": {
     "duration": 0.013244,
     "end_time": "2022-11-27T14:38:50.803247",
     "exception": false,
     "start_time": "2022-11-27T14:38:50.790003",
     "status": "completed"
    },
    "tags": []
   },
   "source": [
    "# Applying LogisticRegression Model "
   ]
  },
  {
   "cell_type": "code",
   "execution_count": 16,
   "id": "869323f8",
   "metadata": {
    "execution": {
     "iopub.execute_input": "2022-11-27T14:38:50.832779Z",
     "iopub.status.busy": "2022-11-27T14:38:50.832315Z",
     "iopub.status.idle": "2022-11-27T14:38:50.940040Z",
     "shell.execute_reply": "2022-11-27T14:38:50.938558Z"
    },
    "papermill": {
     "duration": 0.12667,
     "end_time": "2022-11-27T14:38:50.942938",
     "exception": false,
     "start_time": "2022-11-27T14:38:50.816268",
     "status": "completed"
    },
    "tags": []
   },
   "outputs": [
    {
     "data": {
      "text/plain": [
       "LogisticRegression(random_state=33, solver='sag')"
      ]
     },
     "execution_count": 16,
     "metadata": {},
     "output_type": "execute_result"
    }
   ],
   "source": [
    "LogisticRegressionModel = LogisticRegression(penalty='l2',solver='sag',C=1.0,random_state=33)\n",
    "LogisticRegressionModel.fit(X_train, y_train)"
   ]
  },
  {
   "cell_type": "markdown",
   "id": "ca5c4099",
   "metadata": {
    "papermill": {
     "duration": 0.015046,
     "end_time": "2022-11-27T14:38:50.971647",
     "exception": false,
     "start_time": "2022-11-27T14:38:50.956601",
     "status": "completed"
    },
    "tags": []
   },
   "source": [
    "# Calculating Details"
   ]
  },
  {
   "cell_type": "code",
   "execution_count": 17,
   "id": "e450a6c1",
   "metadata": {
    "execution": {
     "iopub.execute_input": "2022-11-27T14:38:51.003596Z",
     "iopub.status.busy": "2022-11-27T14:38:51.003145Z",
     "iopub.status.idle": "2022-11-27T14:38:51.031768Z",
     "shell.execute_reply": "2022-11-27T14:38:51.029691Z"
    },
    "papermill": {
     "duration": 0.049697,
     "end_time": "2022-11-27T14:38:51.036316",
     "exception": false,
     "start_time": "2022-11-27T14:38:50.986619",
     "status": "completed"
    },
    "tags": []
   },
   "outputs": [
    {
     "name": "stdout",
     "output_type": "stream",
     "text": [
      "LogisticRegressionModel Train Score is :  0.9998358368218009\n",
      "LogisticRegressionModel Test Score is :  1.0\n",
      "LogisticRegressionModel Classes are :  [0 1]\n",
      "LogisticRegressionModel No. of iteratios is :  [27]\n"
     ]
    }
   ],
   "source": [
    "print('LogisticRegressionModel Train Score is : ' , LogisticRegressionModel.score(X_train, y_train))\n",
    "print('LogisticRegressionModel Test Score is : ' , LogisticRegressionModel.score(X_test, y_test))\n",
    "print('LogisticRegressionModel Classes are : ' , LogisticRegressionModel.classes_)\n",
    "print('LogisticRegressionModel No. of iteratios is : ' , LogisticRegressionModel.n_iter_)"
   ]
  },
  {
   "cell_type": "markdown",
   "id": "fb75bb72",
   "metadata": {
    "papermill": {
     "duration": 0.03726,
     "end_time": "2022-11-27T14:38:51.110847",
     "exception": false,
     "start_time": "2022-11-27T14:38:51.073587",
     "status": "completed"
    },
    "tags": []
   },
   "source": [
    "# Calculating Prediction"
   ]
  },
  {
   "cell_type": "code",
   "execution_count": 18,
   "id": "a84498f0",
   "metadata": {
    "execution": {
     "iopub.execute_input": "2022-11-27T14:38:51.159457Z",
     "iopub.status.busy": "2022-11-27T14:38:51.158702Z",
     "iopub.status.idle": "2022-11-27T14:38:51.169329Z",
     "shell.execute_reply": "2022-11-27T14:38:51.167994Z"
    },
    "papermill": {
     "duration": 0.027733,
     "end_time": "2022-11-27T14:38:51.171849",
     "exception": false,
     "start_time": "2022-11-27T14:38:51.144116",
     "status": "completed"
    },
    "tags": []
   },
   "outputs": [
    {
     "name": "stdout",
     "output_type": "stream",
     "text": [
      "Predicted Value for LogisticRegressionModel is :  [1 0 0 1 1 1 1 0 1 0]\n",
      "Prediction Probabilities Value for LogisticRegressionModel is :  [[3.38500692e-03 9.96614993e-01]\n",
      " [9.92519405e-01 7.48059550e-03]\n",
      " [9.99467779e-01 5.32221376e-04]\n",
      " [1.19673135e-03 9.98803269e-01]\n",
      " [2.31601226e-03 9.97683988e-01]\n",
      " [7.29539494e-03 9.92704605e-01]\n",
      " [7.84898886e-03 9.92151011e-01]\n",
      " [9.96752383e-01 3.24761679e-03]\n",
      " [1.23182486e-03 9.98768175e-01]\n",
      " [9.99353573e-01 6.46427035e-04]]\n"
     ]
    }
   ],
   "source": [
    "y_pred = LogisticRegressionModel.predict(X_test)\n",
    "y_pred_prob = LogisticRegressionModel.predict_proba(X_test)\n",
    "print('Predicted Value for LogisticRegressionModel is : ' , y_pred[:10])\n",
    "print('Prediction Probabilities Value for LogisticRegressionModel is : ' , y_pred_prob[:10])"
   ]
  },
  {
   "cell_type": "markdown",
   "id": "fd71564f",
   "metadata": {
    "papermill": {
     "duration": 0.033674,
     "end_time": "2022-11-27T14:38:51.233826",
     "exception": false,
     "start_time": "2022-11-27T14:38:51.200152",
     "status": "completed"
    },
    "tags": []
   },
   "source": [
    "# Calculating Confusion Matrix"
   ]
  },
  {
   "cell_type": "code",
   "execution_count": 19,
   "id": "ddeca27b",
   "metadata": {
    "execution": {
     "iopub.execute_input": "2022-11-27T14:38:51.295413Z",
     "iopub.status.busy": "2022-11-27T14:38:51.294946Z",
     "iopub.status.idle": "2022-11-27T14:38:51.476513Z",
     "shell.execute_reply": "2022-11-27T14:38:51.474982Z"
    },
    "papermill": {
     "duration": 0.210809,
     "end_time": "2022-11-27T14:38:51.479275",
     "exception": false,
     "start_time": "2022-11-27T14:38:51.268466",
     "status": "completed"
    },
    "tags": []
   },
   "outputs": [
    {
     "name": "stdout",
     "output_type": "stream",
     "text": [
      "Confusion Matrix is : \n",
      " [[2738    0]\n",
      " [   0 3264]]\n"
     ]
    },
    {
     "data": {
      "image/png": "[encoded data removed]",
      "text/plain": [
       "<Figure size 432x288 with 2 Axes>"
      ]
     },
     "metadata": {
      "needs_background": "light"
     },
     "output_type": "display_data"
    }
   ],
   "source": [
    "CM = confusion_matrix(y_test, y_pred)\n",
    "print('Confusion Matrix is : \\n', CM)\n",
    "# drawing confusion matrix\n",
    "sns.heatmap(CM, center = True)\n",
    "plt.show()"
   ]
  },
  {
   "cell_type": "markdown",
   "id": "964e04da",
   "metadata": {
    "papermill": {
     "duration": 0.01403,
     "end_time": "2022-11-27T14:38:51.507042",
     "exception": false,
     "start_time": "2022-11-27T14:38:51.493012",
     "status": "completed"
    },
    "tags": []
   },
   "source": [
    "# Calculating Confusion Matrix"
   ]
  },
  {
   "cell_type": "code",
   "execution_count": 20,
   "id": "0d86ee3d",
   "metadata": {
    "execution": {
     "iopub.execute_input": "2022-11-27T14:38:51.536304Z",
     "iopub.status.busy": "2022-11-27T14:38:51.535856Z",
     "iopub.status.idle": "2022-11-27T14:38:51.783860Z",
     "shell.execute_reply": "2022-11-27T14:38:51.782878Z"
    },
    "papermill": {
     "duration": 0.265724,
     "end_time": "2022-11-27T14:38:51.786584",
     "exception": false,
     "start_time": "2022-11-27T14:38:51.520860",
     "status": "completed"
    },
    "tags": []
   },
   "outputs": [
    {
     "name": "stdout",
     "output_type": "stream",
     "text": [
      "Confusion Matrix is : \n",
      " [[5462    0]\n",
      " [   2 6719]]\n"
     ]
    },
    {
     "data": {
      "image/png": "[encoded data removed]",
      "text/plain": [
       "<Figure size 432x288 with 2 Axes>"
      ]
     },
     "metadata": {
      "needs_background": "light"
     },
     "output_type": "display_data"
    }
   ],
   "source": [
    "CM = confusion_matrix(y_train,LogisticRegressionModel.predict(X_train))\n",
    "print('Confusion Matrix is : \\n', CM)\n",
    "# drawing confusion matrix\n",
    "sns.heatmap(CM, center = True)\n",
    "plt.show()"
   ]
  },
  {
   "cell_type": "markdown",
   "id": "32cb0ff8",
   "metadata": {
    "papermill": {
     "duration": 0.013272,
     "end_time": "2022-11-27T14:38:51.813709",
     "exception": false,
     "start_time": "2022-11-27T14:38:51.800437",
     "status": "completed"
    },
    "tags": []
   },
   "source": [
    "# Calculating Accuracy Score  : ((TP + TN) / float(TP + TN + FP + FN))"
   ]
  },
  {
   "cell_type": "code",
   "execution_count": 21,
   "id": "9409de36",
   "metadata": {
    "execution": {
     "iopub.execute_input": "2022-11-27T14:38:51.844160Z",
     "iopub.status.busy": "2022-11-27T14:38:51.843042Z",
     "iopub.status.idle": "2022-11-27T14:38:51.852709Z",
     "shell.execute_reply": "2022-11-27T14:38:51.850574Z"
    },
    "papermill": {
     "duration": 0.028921,
     "end_time": "2022-11-27T14:38:51.856408",
     "exception": false,
     "start_time": "2022-11-27T14:38:51.827487",
     "status": "completed"
    },
    "tags": []
   },
   "outputs": [
    {
     "name": "stdout",
     "output_type": "stream",
     "text": [
      "Accuracy Score is :  1.0\n"
     ]
    }
   ],
   "source": [
    "AccScore = accuracy_score(y_test, y_pred, normalize=True)\n",
    "print('Accuracy Score is : ', AccScore)"
   ]
  },
  {
   "cell_type": "markdown",
   "id": "40b015dd",
   "metadata": {
    "papermill": {
     "duration": 0.014756,
     "end_time": "2022-11-27T14:38:51.886191",
     "exception": false,
     "start_time": "2022-11-27T14:38:51.871435",
     "status": "completed"
    },
    "tags": []
   },
   "source": [
    "# Calculating F1 Score  : 2 * (precision * recall) / (precision + recall)"
   ]
  },
  {
   "cell_type": "code",
   "execution_count": 22,
   "id": "f10491f1",
   "metadata": {
    "execution": {
     "iopub.execute_input": "2022-11-27T14:38:51.917022Z",
     "iopub.status.busy": "2022-11-27T14:38:51.915318Z",
     "iopub.status.idle": "2022-11-27T14:38:51.927926Z",
     "shell.execute_reply": "2022-11-27T14:38:51.926160Z"
    },
    "papermill": {
     "duration": 0.030509,
     "end_time": "2022-11-27T14:38:51.930655",
     "exception": false,
     "start_time": "2022-11-27T14:38:51.900146",
     "status": "completed"
    },
    "tags": []
   },
   "outputs": [
    {
     "name": "stdout",
     "output_type": "stream",
     "text": [
      "F1 Score is :  1.0\n"
     ]
    }
   ],
   "source": [
    "F1Score = f1_score(y_test, y_pred, average='micro')\n",
    "print('F1 Score is : ', F1Score)"
   ]
  },
  {
   "cell_type": "markdown",
   "id": "46c64d73",
   "metadata": {
    "papermill": {
     "duration": 0.014115,
     "end_time": "2022-11-27T14:38:51.960849",
     "exception": false,
     "start_time": "2022-11-27T14:38:51.946734",
     "status": "completed"
    },
    "tags": []
   },
   "source": [
    "# Calculating Recall Score : (Sensitivity) (TP / float(TP + FN))   1 / 1+2  "
   ]
  },
  {
   "cell_type": "code",
   "execution_count": 23,
   "id": "0a7b5849",
   "metadata": {
    "execution": {
     "iopub.execute_input": "2022-11-27T14:38:51.992378Z",
     "iopub.status.busy": "2022-11-27T14:38:51.991917Z",
     "iopub.status.idle": "2022-11-27T14:38:52.004704Z",
     "shell.execute_reply": "2022-11-27T14:38:52.002853Z"
    },
    "papermill": {
     "duration": 0.032026,
     "end_time": "2022-11-27T14:38:52.007734",
     "exception": false,
     "start_time": "2022-11-27T14:38:51.975708",
     "status": "completed"
    },
    "tags": []
   },
   "outputs": [
    {
     "name": "stdout",
     "output_type": "stream",
     "text": [
      "Recall Score is :  1.0\n"
     ]
    }
   ],
   "source": [
    "RecallScore = recall_score(y_test, y_pred, average='micro') #it can be : binary,macro,weighted,samples\n",
    "print('Recall Score is : ', RecallScore)"
   ]
  },
  {
   "cell_type": "markdown",
   "id": "27d691df",
   "metadata": {
    "papermill": {
     "duration": 0.013738,
     "end_time": "2022-11-27T14:38:52.036381",
     "exception": false,
     "start_time": "2022-11-27T14:38:52.022643",
     "status": "completed"
    },
    "tags": []
   },
   "source": [
    "# Calculating Precision Score : (Specificity) #(TP / float(TP + FP))  "
   ]
  },
  {
   "cell_type": "code",
   "execution_count": 24,
   "id": "ea30ee18",
   "metadata": {
    "execution": {
     "iopub.execute_input": "2022-11-27T14:38:52.066442Z",
     "iopub.status.busy": "2022-11-27T14:38:52.065990Z",
     "iopub.status.idle": "2022-11-27T14:38:52.078114Z",
     "shell.execute_reply": "2022-11-27T14:38:52.076363Z"
    },
    "papermill": {
     "duration": 0.030452,
     "end_time": "2022-11-27T14:38:52.080806",
     "exception": false,
     "start_time": "2022-11-27T14:38:52.050354",
     "status": "completed"
    },
    "tags": []
   },
   "outputs": [
    {
     "name": "stdout",
     "output_type": "stream",
     "text": [
      "Precision Score is :  1.0\n"
     ]
    }
   ],
   "source": [
    "PrecisionScore = precision_score(y_test, y_pred, average='micro')\n",
    "print('Precision Score is : ', PrecisionScore)"
   ]
  },
  {
   "cell_type": "markdown",
   "id": "d04e3d73",
   "metadata": {
    "papermill": {
     "duration": 0.014987,
     "end_time": "2022-11-27T14:38:52.110860",
     "exception": false,
     "start_time": "2022-11-27T14:38:52.095873",
     "status": "completed"
    },
    "tags": []
   },
   "source": [
    "# Calculating Precision recall Curve : "
   ]
  },
  {
   "cell_type": "code",
   "execution_count": 25,
   "id": "7c7cd1fd",
   "metadata": {
    "execution": {
     "iopub.execute_input": "2022-11-27T14:38:52.141121Z",
     "iopub.status.busy": "2022-11-27T14:38:52.140644Z",
     "iopub.status.idle": "2022-11-27T14:38:52.152704Z",
     "shell.execute_reply": "2022-11-27T14:38:52.150778Z"
    },
    "papermill": {
     "duration": 0.030069,
     "end_time": "2022-11-27T14:38:52.155125",
     "exception": false,
     "start_time": "2022-11-27T14:38:52.125056",
     "status": "completed"
    },
    "tags": []
   },
   "outputs": [
    {
     "name": "stdout",
     "output_type": "stream",
     "text": [
      "Precision Value is :  [1. 1.]\n",
      "Recall Value is :  [1. 0.]\n",
      "Thresholds Value is :  [1]\n"
     ]
    }
   ],
   "source": [
    "PrecisionValue, RecallValue, ThresholdsValue = precision_recall_curve(y_test,y_pred)\n",
    "print('Precision Value is : ', PrecisionValue)\n",
    "print('Recall Value is : ', RecallValue)\n",
    "print('Thresholds Value is : ', ThresholdsValue)"
   ]
  },
  {
   "cell_type": "markdown",
   "id": "b0ff3816",
   "metadata": {
    "papermill": {
     "duration": 0.014121,
     "end_time": "2022-11-27T14:38:52.183461",
     "exception": false,
     "start_time": "2022-11-27T14:38:52.169340",
     "status": "completed"
    },
    "tags": []
   },
   "source": [
    "# Calculating classification Report :  "
   ]
  },
  {
   "cell_type": "code",
   "execution_count": 26,
   "id": "234fa161",
   "metadata": {
    "execution": {
     "iopub.execute_input": "2022-11-27T14:38:52.215513Z",
     "iopub.status.busy": "2022-11-27T14:38:52.215053Z",
     "iopub.status.idle": "2022-11-27T14:38:52.239532Z",
     "shell.execute_reply": "2022-11-27T14:38:52.237409Z"
    },
    "papermill": {
     "duration": 0.043351,
     "end_time": "2022-11-27T14:38:52.242673",
     "exception": false,
     "start_time": "2022-11-27T14:38:52.199322",
     "status": "completed"
    },
    "tags": []
   },
   "outputs": [
    {
     "name": "stdout",
     "output_type": "stream",
     "text": [
      "Classification Report is :                precision    recall  f1-score   support\n",
      "\n",
      "           0       1.00      1.00      1.00      2738\n",
      "           1       1.00      1.00      1.00      3264\n",
      "\n",
      "    accuracy                           1.00      6002\n",
      "   macro avg       1.00      1.00      1.00      6002\n",
      "weighted avg       1.00      1.00      1.00      6002\n",
      "\n"
     ]
    }
   ],
   "source": [
    "ClassificationReport = classification_report(y_test,y_pred)\n",
    "print('Classification Report is : ', ClassificationReport )"
   ]
  },
  {
   "cell_type": "markdown",
   "id": "fc0381a5",
   "metadata": {
    "papermill": {
     "duration": 0.013868,
     "end_time": "2022-11-27T14:38:52.271050",
     "exception": false,
     "start_time": "2022-11-27T14:38:52.257182",
     "status": "completed"
    },
    "tags": []
   },
   "source": [
    "# Calculating ROC AUC Score: "
   ]
  },
  {
   "cell_type": "code",
   "execution_count": 27,
   "id": "c386d396",
   "metadata": {
    "execution": {
     "iopub.execute_input": "2022-11-27T14:38:52.302357Z",
     "iopub.status.busy": "2022-11-27T14:38:52.301916Z",
     "iopub.status.idle": "2022-11-27T14:38:52.312203Z",
     "shell.execute_reply": "2022-11-27T14:38:52.311113Z"
    },
    "papermill": {
     "duration": 0.028865,
     "end_time": "2022-11-27T14:38:52.314855",
     "exception": false,
     "start_time": "2022-11-27T14:38:52.285990",
     "status": "completed"
    },
    "tags": []
   },
   "outputs": [
    {
     "name": "stdout",
     "output_type": "stream",
     "text": [
      "ROCAUC Score :  1.0\n"
     ]
    }
   ],
   "source": [
    "ROCAUCScore = roc_auc_score(y_test,y_pred, average='micro') #it can be : macro,weighted,samples\n",
    "print('ROCAUC Score : ', ROCAUCScore)"
   ]
  },
  {
   "cell_type": "code",
   "execution_count": 28,
   "id": "4cf8c30e",
   "metadata": {
    "execution": {
     "iopub.execute_input": "2022-11-27T14:38:52.347064Z",
     "iopub.status.busy": "2022-11-27T14:38:52.346569Z",
     "iopub.status.idle": "2022-11-27T14:38:52.372549Z",
     "shell.execute_reply": "2022-11-27T14:38:52.371661Z"
    },
    "papermill": {
     "duration": 0.045317,
     "end_time": "2022-11-27T14:38:52.374886",
     "exception": false,
     "start_time": "2022-11-27T14:38:52.329569",
     "status": "completed"
    },
    "tags": []
   },
   "outputs": [
    {
     "data": {
      "text/html": [
       "<div>\n",
       "<style scoped>\n",
       "    .dataframe tbody tr th:only-of-type {\n",
       "        vertical-align: middle;\n",
       "    }\n",
       "\n",
       "    .dataframe tbody tr th {\n",
       "        vertical-align: top;\n",
       "    }\n",
       "\n",
       "    .dataframe thead th {\n",
       "        text-align: right;\n",
       "    }\n",
       "</style>\n",
       "<table border=\"1\" class=\"dataframe\">\n",
       "  <thead>\n",
       "    <tr style=\"text-align: right;\">\n",
       "      <th></th>\n",
       "      <th>prediction</th>\n",
       "    </tr>\n",
       "  </thead>\n",
       "  <tbody>\n",
       "    <tr>\n",
       "      <th>0</th>\n",
       "      <td>1</td>\n",
       "    </tr>\n",
       "    <tr>\n",
       "      <th>1</th>\n",
       "      <td>0</td>\n",
       "    </tr>\n",
       "    <tr>\n",
       "      <th>2</th>\n",
       "      <td>0</td>\n",
       "    </tr>\n",
       "    <tr>\n",
       "      <th>3</th>\n",
       "      <td>1</td>\n",
       "    </tr>\n",
       "    <tr>\n",
       "      <th>4</th>\n",
       "      <td>1</td>\n",
       "    </tr>\n",
       "    <tr>\n",
       "      <th>...</th>\n",
       "      <td>...</td>\n",
       "    </tr>\n",
       "    <tr>\n",
       "      <th>5997</th>\n",
       "      <td>0</td>\n",
       "    </tr>\n",
       "    <tr>\n",
       "      <th>5998</th>\n",
       "      <td>0</td>\n",
       "    </tr>\n",
       "    <tr>\n",
       "      <th>5999</th>\n",
       "      <td>1</td>\n",
       "    </tr>\n",
       "    <tr>\n",
       "      <th>6000</th>\n",
       "      <td>1</td>\n",
       "    </tr>\n",
       "    <tr>\n",
       "      <th>6001</th>\n",
       "      <td>0</td>\n",
       "    </tr>\n",
       "  </tbody>\n",
       "</table>\n",
       "<p>6002 rows × 1 columns</p>\n",
       "</div>"
      ],
      "text/plain": [
       "      prediction\n",
       "0              1\n",
       "1              0\n",
       "2              0\n",
       "3              1\n",
       "4              1\n",
       "...          ...\n",
       "5997           0\n",
       "5998           0\n",
       "5999           1\n",
       "6000           1\n",
       "6001           0\n",
       "\n",
       "[6002 rows x 1 columns]"
      ]
     },
     "execution_count": 28,
     "metadata": {},
     "output_type": "execute_result"
    }
   ],
   "source": [
    "submision=pd.DataFrame(y_pred,columns=['prediction'])\n",
    "submision.to_csv('/kaggle/working/prediction.csv')\n",
    "submision"
   ]
  }
 ],
 "metadata": {
  "kernelspec": {
   "display_name": "Python 3",
   "language": "python",
   "name": "python3"
  },
  "language_info": {
   "codemirror_mode": {
    "name": "ipython",
    "version": 3
   },
   "file_extension": ".py",
   "mimetype": "text/x-python",
   "name": "python",
   "nbconvert_exporter": "python",
   "pygments_lexer": "ipython3",
   "version": "3.7.12"
  },
  "papermill": {
   "default_parameters": {},
   "duration": 15.592113,
   "end_time": "2022-11-27T14:38:53.415715",
   "environment_variables": {},
   "exception": null,
   "input_path": "__notebook__.ipynb",
   "output_path": "__notebook__.ipynb",
   "parameters": {},
   "start_time": "2022-11-27T14:38:37.823602",
   "version": "2.3.4"
  }
 },
 "nbformat": 4,
 "nbformat_minor": 5
}
